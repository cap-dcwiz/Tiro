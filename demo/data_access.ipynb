{
 "cells": [
  {
   "cell_type": "code",
   "execution_count": null,
   "outputs": [],
   "source": [
    "from datetime import timedelta\n",
    "from rich import print\n",
    "from dynaconf import Dynaconf\n",
    "from arango import ArangoClient\n",
    "from utinni import Context\n",
    "from pathlib import Path\n",
    "\n",
    "from tiro.plugins.utinni import TiroTSPump\n",
    "from tiro.plugins.arango import ArangoAgent\n",
    "from tiro.core import Scenario\n",
    "from influxdb_client import InfluxDBClient\n",
    "\n",
    "conf = Dynaconf(settings_files=[\"./config/utinni_config.toml\"])\n",
    "scenario = Scenario.from_yaml(Path(\"./config/scenario1.yaml\"), Path(\"./config/use1.yaml\"))"
   ],
   "metadata": {
    "collapsed": false,
    "pycharm": {
     "name": "#%%\n"
    }
   }
  },
  {
   "cell_type": "markdown",
   "source": [],
   "metadata": {
    "collapsed": false,
    "pycharm": {
     "name": "#%% md\n"
    }
   }
  },
  {
   "cell_type": "code",
   "execution_count": null,
   "outputs": [],
   "source": [
    "context = Context(clients=dict(influxdb=InfluxDBClient(**conf.influxdb),\n",
    "                               arangodb=ArangoAgent(**conf.arangodb)),\n",
    "                  **conf.on_request)\n",
    "\n",
    "context.add_pump(\"tiro\", TiroTSPump(scenario=scenario))"
   ],
   "metadata": {
    "collapsed": false,
    "pycharm": {
     "name": "#%%\n"
    }
   }
  },
  {
   "cell_type": "code",
   "execution_count": null,
   "outputs": [],
   "source": [
    "table = context.tiro_table(\".*Server%(CPU|Memory)Temperature\", column=\"Server\", only_ts=False, fill_with_default=True)"
   ],
   "metadata": {
    "collapsed": false,
    "pycharm": {
     "name": "#%%\n"
    }
   }
  },
  {
   "cell_type": "code",
   "execution_count": null,
   "outputs": [],
   "source": [
    "context.bind(start=-timedelta(hours=1),\n",
    "             step=timedelta(minutes=10))\n",
    "\n",
    "# table.value\n",
    "# table[\"MemoryTemperature\"].value\n",
    "table[\"CPUTemperature\"].value"
   ],
   "metadata": {
    "collapsed": false,
    "pycharm": {
     "name": "#%%\n"
    }
   }
  },
  {
   "cell_type": "code",
   "execution_count": null,
   "outputs": [],
   "source": [
    "context.tiro_table(pattern=\".*Server%(CPU|Memory)Temperature\", type=\"status\", as_df=True, include_tags=\"Server\")[\"CPUTemperature\"].value"
   ],
   "metadata": {
    "collapsed": false,
    "pycharm": {
     "name": "#%%\n"
    }
   }
  },
  {
   "cell_type": "code",
   "execution_count": null,
   "outputs": [],
   "source": [
    "print(context.tiro_table(pattern=\".*Site\", type=\"status\", fill_with_default=True).value)"
   ],
   "metadata": {
    "collapsed": false,
    "pycharm": {
     "name": "#%%\n"
    }
   }
  }
 ],
 "metadata": {
  "kernelspec": {
   "display_name": "Python 3 (ipykernel)",
   "language": "python",
   "name": "python3"
  },
  "language_info": {
   "codemirror_mode": {
    "name": "ipython",
    "version": 3
   },
   "file_extension": ".py",
   "mimetype": "text/x-python",
   "name": "python",
   "nbconvert_exporter": "python",
   "pygments_lexer": "ipython3",
   "version": "3.10.2"
  }
 },
 "nbformat": 4,
 "nbformat_minor": 5
}