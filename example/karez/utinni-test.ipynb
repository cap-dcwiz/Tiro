{
 "cells": [
  {
   "cell_type": "code",
   "execution_count": 1,
   "id": "f58cd048-838f-4acb-b019-d945af7f1c42",
   "metadata": {},
   "outputs": [],
   "source": [
    "from pathlib import Path\n",
    "from datetime import timedelta\n",
    "from utinni import Context\n",
    "from tiro.core import Scenario\n",
    "from tiro.plugins.utinni import TiroTSPump\n",
    "\n",
    "from rich import print"
   ]
  },
  {
   "cell_type": "code",
   "execution_count": 2,
   "id": "9bd3449a-94e9-4ae7-a243-b9a74870dd9c",
   "metadata": {},
   "outputs": [],
   "source": [
    "scenario = Scenario.from_yaml(Path(\"scenario/scenario.yaml\"),\n",
    "                              Path(\"scenario/use-srv1.yaml\"), Path(\"scenario/use-srv2.yaml\"))\n",
    "pump = TiroTSPump(\n",
    "    scenario=scenario,\n",
    "    influxdb_url=\"http://localhost:8086\",\n",
    "    influxdb_token=\"tiro-token\",\n",
    "    influxdb_org=\"tiro\",\n",
    "    arangodb_db = \"tiro\",\n",
    "    arangodb_graph = \"scenario\",\n",
    "    arangodb_hosts = \"http://localhost:8529\",\n",
    "    arangodb_auth=dict(password=\"tiro-password\")\n",
    ").bind(\n",
    "    influxdb_bucket=\"tiro\",\n",
    "    influxdb_measurement=\"tiro_telemetry\"\n",
    ")"
   ]
  },
  {
   "cell_type": "code",
   "execution_count": 3,
   "id": "9a477533-924a-445a-821f-75041a203d09",
   "metadata": {},
   "outputs": [
    {
     "data": {
      "text/plain": [
       "<utinni.context.Context at 0x1539f0610>"
      ]
     },
     "execution_count": 3,
     "metadata": {},
     "output_type": "execute_result"
    }
   ],
   "source": [
    "context = Context()\n",
    "context.add_pump(\"tiro\", pump)"
   ]
  },
  {
   "cell_type": "code",
   "execution_count": 4,
   "id": "76e8573c-699e-4dfe-9fd5-4beaaf28f890",
   "metadata": {},
   "outputs": [
    {
     "data": {
      "text/plain": [
       "<utinni.context.Context at 0x1539f0610>"
      ]
     },
     "execution_count": 4,
     "metadata": {},
     "output_type": "execute_result"
    }
   ],
   "source": [
    "context.bind(\n",
    "    start=-timedelta(hours=1),\n",
    "    step=timedelta(minutes=5)\n",
    ")"
   ]
  },
  {
   "cell_type": "code",
   "execution_count": 29,
   "id": "dbb82bdd-beba-4a0b-bb7d-a71563cd0bff",
   "metadata": {},
   "outputs": [
    {
     "data": {
      "text/html": [
       "<pre style=\"white-space:pre;overflow-x:auto;line-height:normal;font-family:Menlo,'DejaVu Sans Mono',consolas,'Courier New',monospace\">                            rack_0   rack_1\n",
       "<span style=\"color: #008080; text-decoration-color: #008080; font-weight: bold\">2022</span>-<span style=\"color: #008080; text-decoration-color: #008080; font-weight: bold\">09</span>-<span style=\"color: #008080; text-decoration-color: #008080; font-weight: bold\">27</span> <span style=\"color: #00ff00; text-decoration-color: #00ff00; font-weight: bold\">15:10:00</span>+<span style=\"color: #00ff00; text-decoration-color: #00ff00; font-weight: bold\">08:00</span>  <span style=\"color: #008080; text-decoration-color: #008080; font-weight: bold\">2314.28</span>  <span style=\"color: #008080; text-decoration-color: #008080; font-weight: bold\">1595.97</span>\n",
       "<span style=\"color: #008080; text-decoration-color: #008080; font-weight: bold\">2022</span>-<span style=\"color: #008080; text-decoration-color: #008080; font-weight: bold\">09</span>-<span style=\"color: #008080; text-decoration-color: #008080; font-weight: bold\">27</span> <span style=\"color: #00ff00; text-decoration-color: #00ff00; font-weight: bold\">15:15:00</span>+<span style=\"color: #00ff00; text-decoration-color: #00ff00; font-weight: bold\">08:00</span>  <span style=\"color: #008080; text-decoration-color: #008080; font-weight: bold\">1684.89</span>   <span style=\"color: #008080; text-decoration-color: #008080; font-weight: bold\">725.40</span>\n",
       "<span style=\"color: #008080; text-decoration-color: #008080; font-weight: bold\">2022</span>-<span style=\"color: #008080; text-decoration-color: #008080; font-weight: bold\">09</span>-<span style=\"color: #008080; text-decoration-color: #008080; font-weight: bold\">27</span> <span style=\"color: #00ff00; text-decoration-color: #00ff00; font-weight: bold\">15:20:00</span>+<span style=\"color: #00ff00; text-decoration-color: #00ff00; font-weight: bold\">08:00</span>  <span style=\"color: #008080; text-decoration-color: #008080; font-weight: bold\">1704.01</span>  <span style=\"color: #008080; text-decoration-color: #008080; font-weight: bold\">1146.60</span>\n",
       "<span style=\"color: #008080; text-decoration-color: #008080; font-weight: bold\">2022</span>-<span style=\"color: #008080; text-decoration-color: #008080; font-weight: bold\">09</span>-<span style=\"color: #008080; text-decoration-color: #008080; font-weight: bold\">27</span> <span style=\"color: #00ff00; text-decoration-color: #00ff00; font-weight: bold\">15:25:00</span>+<span style=\"color: #00ff00; text-decoration-color: #00ff00; font-weight: bold\">08:00</span>  <span style=\"color: #008080; text-decoration-color: #008080; font-weight: bold\">2469.59</span>   <span style=\"color: #008080; text-decoration-color: #008080; font-weight: bold\">888.24</span>\n",
       "<span style=\"color: #008080; text-decoration-color: #008080; font-weight: bold\">2022</span>-<span style=\"color: #008080; text-decoration-color: #008080; font-weight: bold\">09</span>-<span style=\"color: #008080; text-decoration-color: #008080; font-weight: bold\">27</span> <span style=\"color: #00ff00; text-decoration-color: #00ff00; font-weight: bold\">15:30:00</span>+<span style=\"color: #00ff00; text-decoration-color: #00ff00; font-weight: bold\">08:00</span>  <span style=\"color: #008080; text-decoration-color: #008080; font-weight: bold\">1484.55</span>  <span style=\"color: #008080; text-decoration-color: #008080; font-weight: bold\">1831.56</span>\n",
       "<span style=\"color: #008080; text-decoration-color: #008080; font-weight: bold\">2022</span>-<span style=\"color: #008080; text-decoration-color: #008080; font-weight: bold\">09</span>-<span style=\"color: #008080; text-decoration-color: #008080; font-weight: bold\">27</span> <span style=\"color: #00ff00; text-decoration-color: #00ff00; font-weight: bold\">15:35:00</span>+<span style=\"color: #00ff00; text-decoration-color: #00ff00; font-weight: bold\">08:00</span>  <span style=\"color: #008080; text-decoration-color: #008080; font-weight: bold\">1395.31</span>  <span style=\"color: #008080; text-decoration-color: #008080; font-weight: bold\">1706.43</span>\n",
       "<span style=\"color: #008080; text-decoration-color: #008080; font-weight: bold\">2022</span>-<span style=\"color: #008080; text-decoration-color: #008080; font-weight: bold\">09</span>-<span style=\"color: #008080; text-decoration-color: #008080; font-weight: bold\">27</span> <span style=\"color: #00ff00; text-decoration-color: #00ff00; font-weight: bold\">15:40:00</span>+<span style=\"color: #00ff00; text-decoration-color: #00ff00; font-weight: bold\">08:00</span>  <span style=\"color: #008080; text-decoration-color: #008080; font-weight: bold\">1489.70</span>  <span style=\"color: #008080; text-decoration-color: #008080; font-weight: bold\">1741.37</span>\n",
       "<span style=\"color: #008080; text-decoration-color: #008080; font-weight: bold\">2022</span>-<span style=\"color: #008080; text-decoration-color: #008080; font-weight: bold\">09</span>-<span style=\"color: #008080; text-decoration-color: #008080; font-weight: bold\">27</span> <span style=\"color: #00ff00; text-decoration-color: #00ff00; font-weight: bold\">15:45:00</span>+<span style=\"color: #00ff00; text-decoration-color: #00ff00; font-weight: bold\">08:00</span>  <span style=\"color: #008080; text-decoration-color: #008080; font-weight: bold\">1842.68</span>  <span style=\"color: #008080; text-decoration-color: #008080; font-weight: bold\">1008.99</span>\n",
       "<span style=\"color: #008080; text-decoration-color: #008080; font-weight: bold\">2022</span>-<span style=\"color: #008080; text-decoration-color: #008080; font-weight: bold\">09</span>-<span style=\"color: #008080; text-decoration-color: #008080; font-weight: bold\">27</span> <span style=\"color: #00ff00; text-decoration-color: #00ff00; font-weight: bold\">15:50:00</span>+<span style=\"color: #00ff00; text-decoration-color: #00ff00; font-weight: bold\">08:00</span>  <span style=\"color: #008080; text-decoration-color: #008080; font-weight: bold\">1593.35</span>  <span style=\"color: #008080; text-decoration-color: #008080; font-weight: bold\">1911.79</span>\n",
       "<span style=\"color: #008080; text-decoration-color: #008080; font-weight: bold\">2022</span>-<span style=\"color: #008080; text-decoration-color: #008080; font-weight: bold\">09</span>-<span style=\"color: #008080; text-decoration-color: #008080; font-weight: bold\">27</span> <span style=\"color: #00ff00; text-decoration-color: #00ff00; font-weight: bold\">15:55:00</span>+<span style=\"color: #00ff00; text-decoration-color: #00ff00; font-weight: bold\">08:00</span>  <span style=\"color: #008080; text-decoration-color: #008080; font-weight: bold\">1888.52</span>   <span style=\"color: #008080; text-decoration-color: #008080; font-weight: bold\">999.81</span>\n",
       "<span style=\"color: #008080; text-decoration-color: #008080; font-weight: bold\">2022</span>-<span style=\"color: #008080; text-decoration-color: #008080; font-weight: bold\">09</span>-<span style=\"color: #008080; text-decoration-color: #008080; font-weight: bold\">27</span> <span style=\"color: #00ff00; text-decoration-color: #00ff00; font-weight: bold\">16:00:00</span>+<span style=\"color: #00ff00; text-decoration-color: #00ff00; font-weight: bold\">08:00</span>  <span style=\"color: #008080; text-decoration-color: #008080; font-weight: bold\">1587.14</span>  <span style=\"color: #008080; text-decoration-color: #008080; font-weight: bold\">2006.45</span>\n",
       "<span style=\"color: #008080; text-decoration-color: #008080; font-weight: bold\">2022</span>-<span style=\"color: #008080; text-decoration-color: #008080; font-weight: bold\">09</span>-<span style=\"color: #008080; text-decoration-color: #008080; font-weight: bold\">27</span> <span style=\"color: #00ff00; text-decoration-color: #00ff00; font-weight: bold\">16:05:00</span>+<span style=\"color: #00ff00; text-decoration-color: #00ff00; font-weight: bold\">08:00</span>  <span style=\"color: #008080; text-decoration-color: #008080; font-weight: bold\">1752.09</span>  <span style=\"color: #008080; text-decoration-color: #008080; font-weight: bold\">1323.92</span>\n",
       "<span style=\"color: #008080; text-decoration-color: #008080; font-weight: bold\">2022</span>-<span style=\"color: #008080; text-decoration-color: #008080; font-weight: bold\">09</span>-<span style=\"color: #008080; text-decoration-color: #008080; font-weight: bold\">27</span> <span style=\"color: #00ff00; text-decoration-color: #00ff00; font-weight: bold\">16:10:00</span>+<span style=\"color: #00ff00; text-decoration-color: #00ff00; font-weight: bold\">08:00</span>  <span style=\"color: #008080; text-decoration-color: #008080; font-weight: bold\">1629.37</span>  <span style=\"color: #008080; text-decoration-color: #008080; font-weight: bold\">1596.03</span>\n",
       "</pre>\n"
      ],
      "text/plain": [
       "                            rack_0   rack_1\n",
       "\u001b[1;36m2022\u001b[0m-\u001b[1;36m09\u001b[0m-\u001b[1;36m27\u001b[0m \u001b[1;92m15:10:00\u001b[0m+\u001b[1;92m08:00\u001b[0m  \u001b[1;36m2314.28\u001b[0m  \u001b[1;36m1595.97\u001b[0m\n",
       "\u001b[1;36m2022\u001b[0m-\u001b[1;36m09\u001b[0m-\u001b[1;36m27\u001b[0m \u001b[1;92m15:15:00\u001b[0m+\u001b[1;92m08:00\u001b[0m  \u001b[1;36m1684.89\u001b[0m   \u001b[1;36m725.40\u001b[0m\n",
       "\u001b[1;36m2022\u001b[0m-\u001b[1;36m09\u001b[0m-\u001b[1;36m27\u001b[0m \u001b[1;92m15:20:00\u001b[0m+\u001b[1;92m08:00\u001b[0m  \u001b[1;36m1704.01\u001b[0m  \u001b[1;36m1146.60\u001b[0m\n",
       "\u001b[1;36m2022\u001b[0m-\u001b[1;36m09\u001b[0m-\u001b[1;36m27\u001b[0m \u001b[1;92m15:25:00\u001b[0m+\u001b[1;92m08:00\u001b[0m  \u001b[1;36m2469.59\u001b[0m   \u001b[1;36m888.24\u001b[0m\n",
       "\u001b[1;36m2022\u001b[0m-\u001b[1;36m09\u001b[0m-\u001b[1;36m27\u001b[0m \u001b[1;92m15:30:00\u001b[0m+\u001b[1;92m08:00\u001b[0m  \u001b[1;36m1484.55\u001b[0m  \u001b[1;36m1831.56\u001b[0m\n",
       "\u001b[1;36m2022\u001b[0m-\u001b[1;36m09\u001b[0m-\u001b[1;36m27\u001b[0m \u001b[1;92m15:35:00\u001b[0m+\u001b[1;92m08:00\u001b[0m  \u001b[1;36m1395.31\u001b[0m  \u001b[1;36m1706.43\u001b[0m\n",
       "\u001b[1;36m2022\u001b[0m-\u001b[1;36m09\u001b[0m-\u001b[1;36m27\u001b[0m \u001b[1;92m15:40:00\u001b[0m+\u001b[1;92m08:00\u001b[0m  \u001b[1;36m1489.70\u001b[0m  \u001b[1;36m1741.37\u001b[0m\n",
       "\u001b[1;36m2022\u001b[0m-\u001b[1;36m09\u001b[0m-\u001b[1;36m27\u001b[0m \u001b[1;92m15:45:00\u001b[0m+\u001b[1;92m08:00\u001b[0m  \u001b[1;36m1842.68\u001b[0m  \u001b[1;36m1008.99\u001b[0m\n",
       "\u001b[1;36m2022\u001b[0m-\u001b[1;36m09\u001b[0m-\u001b[1;36m27\u001b[0m \u001b[1;92m15:50:00\u001b[0m+\u001b[1;92m08:00\u001b[0m  \u001b[1;36m1593.35\u001b[0m  \u001b[1;36m1911.79\u001b[0m\n",
       "\u001b[1;36m2022\u001b[0m-\u001b[1;36m09\u001b[0m-\u001b[1;36m27\u001b[0m \u001b[1;92m15:55:00\u001b[0m+\u001b[1;92m08:00\u001b[0m  \u001b[1;36m1888.52\u001b[0m   \u001b[1;36m999.81\u001b[0m\n",
       "\u001b[1;36m2022\u001b[0m-\u001b[1;36m09\u001b[0m-\u001b[1;36m27\u001b[0m \u001b[1;92m16:00:00\u001b[0m+\u001b[1;92m08:00\u001b[0m  \u001b[1;36m1587.14\u001b[0m  \u001b[1;36m2006.45\u001b[0m\n",
       "\u001b[1;36m2022\u001b[0m-\u001b[1;36m09\u001b[0m-\u001b[1;36m27\u001b[0m \u001b[1;92m16:05:00\u001b[0m+\u001b[1;92m08:00\u001b[0m  \u001b[1;36m1752.09\u001b[0m  \u001b[1;36m1323.92\u001b[0m\n",
       "\u001b[1;36m2022\u001b[0m-\u001b[1;36m09\u001b[0m-\u001b[1;36m27\u001b[0m \u001b[1;92m16:10:00\u001b[0m+\u001b[1;92m08:00\u001b[0m  \u001b[1;36m1629.37\u001b[0m  \u001b[1;36m1596.03\u001b[0m\n"
      ]
     },
     "metadata": {},
     "output_type": "display_data"
    }
   ],
   "source": [
    "print(\n",
    "context.tiro_table(\n",
    "    \"%%Server%FlowRate\", \n",
    "    type=\"historian\",\n",
    "    column=\"Rack\", \n",
    "    asset_agg_fn=\"sum\"\n",
    ")[\"FlowRate\"].value\n",
    "     )"
   ]
  },
  {
   "cell_type": "code",
   "execution_count": 32,
   "id": "e690caf0-a369-4631-aff8-cae22981633b",
   "metadata": {},
   "outputs": [
    {
     "data": {
      "text/html": [
       "<pre style=\"white-space:pre;overflow-x:auto;line-height:normal;font-family:Menlo,'DejaVu Sans Mono',consolas,'Courier New',monospace\"><span style=\"font-weight: bold\">{</span>\n",
       "    <span style=\"color: #008000; text-decoration-color: #008000\">'DataHall'</span>: <span style=\"font-weight: bold\">{</span>\n",
       "        <span style=\"color: #008000; text-decoration-color: #008000\">'data_hall_0'</span>: <span style=\"font-weight: bold\">{</span>\n",
       "            <span style=\"color: #008000; text-decoration-color: #008000\">'CRAC'</span>: <span style=\"font-weight: bold\">{</span><span style=\"color: #008000; text-decoration-color: #008000\">'crac_0'</span>: <span style=\"font-weight: bold\">{</span><span style=\"color: #008000; text-decoration-color: #008000\">'Telemetry'</span>: <span style=\"font-weight: bold\">{</span><span style=\"color: #008000; text-decoration-color: #008000\">'ActivePower'</span>: <span style=\"color: #008080; text-decoration-color: #008080; font-weight: bold\">57.83</span><span style=\"font-weight: bold\">}}}</span>,\n",
       "            <span style=\"color: #008000; text-decoration-color: #008000\">'Rack'</span>: <span style=\"font-weight: bold\">{</span>\n",
       "                <span style=\"color: #008000; text-decoration-color: #008000\">'rack_0'</span>: <span style=\"font-weight: bold\">{</span><span style=\"color: #008000; text-decoration-color: #008000\">'Telemetry'</span>: <span style=\"font-weight: bold\">{</span><span style=\"color: #008000; text-decoration-color: #008000\">'ActivePower'</span>: <span style=\"color: #008080; text-decoration-color: #008080; font-weight: bold\">955.42</span><span style=\"font-weight: bold\">}}</span>,\n",
       "                <span style=\"color: #008000; text-decoration-color: #008000\">'rack_1'</span>: <span style=\"font-weight: bold\">{</span><span style=\"color: #008000; text-decoration-color: #008000\">'Telemetry'</span>: <span style=\"font-weight: bold\">{</span><span style=\"color: #008000; text-decoration-color: #008000\">'ActivePower'</span>: <span style=\"color: #008080; text-decoration-color: #008080; font-weight: bold\">600.6</span><span style=\"font-weight: bold\">}}</span>\n",
       "            <span style=\"font-weight: bold\">}</span>\n",
       "        <span style=\"font-weight: bold\">}</span>\n",
       "    <span style=\"font-weight: bold\">}</span>\n",
       "<span style=\"font-weight: bold\">}</span>\n",
       "</pre>\n"
      ],
      "text/plain": [
       "\u001b[1m{\u001b[0m\n",
       "    \u001b[32m'DataHall'\u001b[0m: \u001b[1m{\u001b[0m\n",
       "        \u001b[32m'data_hall_0'\u001b[0m: \u001b[1m{\u001b[0m\n",
       "            \u001b[32m'CRAC'\u001b[0m: \u001b[1m{\u001b[0m\u001b[32m'crac_0'\u001b[0m: \u001b[1m{\u001b[0m\u001b[32m'Telemetry'\u001b[0m: \u001b[1m{\u001b[0m\u001b[32m'ActivePower'\u001b[0m: \u001b[1;36m57.83\u001b[0m\u001b[1m}\u001b[0m\u001b[1m}\u001b[0m\u001b[1m}\u001b[0m,\n",
       "            \u001b[32m'Rack'\u001b[0m: \u001b[1m{\u001b[0m\n",
       "                \u001b[32m'rack_0'\u001b[0m: \u001b[1m{\u001b[0m\u001b[32m'Telemetry'\u001b[0m: \u001b[1m{\u001b[0m\u001b[32m'ActivePower'\u001b[0m: \u001b[1;36m955.42\u001b[0m\u001b[1m}\u001b[0m\u001b[1m}\u001b[0m,\n",
       "                \u001b[32m'rack_1'\u001b[0m: \u001b[1m{\u001b[0m\u001b[32m'Telemetry'\u001b[0m: \u001b[1m{\u001b[0m\u001b[32m'ActivePower'\u001b[0m: \u001b[1;36m600.6\u001b[0m\u001b[1m}\u001b[0m\u001b[1m}\u001b[0m\n",
       "            \u001b[1m}\u001b[0m\n",
       "        \u001b[1m}\u001b[0m\n",
       "    \u001b[1m}\u001b[0m\n",
       "\u001b[1m}\u001b[0m\n"
      ]
     },
     "metadata": {},
     "output_type": "display_data"
    }
   ],
   "source": [
    "print(context.tiro_table(\n",
    "    \"%%ActivePower\",\n",
    "    type=\"status\", \n",
    "    # as_dataframe=False, \n",
    "    value_only=True\n",
    ").value)"
   ]
  },
  {
   "cell_type": "code",
   "execution_count": 52,
   "id": "fb930b38-20cd-4af9-bf6f-e32b7f06b22b",
   "metadata": {},
   "outputs": [
    {
     "data": {
      "text/html": [
       "<pre style=\"white-space:pre;overflow-x:auto;line-height:normal;font-family:Menlo,'DejaVu Sans Mono',consolas,'Courier New',monospace\">     Rack    Server   value\n",
       "<span style=\"color: #008080; text-decoration-color: #008080; font-weight: bold\">0</span>  rack_0  server_0  <span style=\"color: #008080; text-decoration-color: #008080; font-weight: bold\">876.44</span>\n",
       "<span style=\"color: #008080; text-decoration-color: #008080; font-weight: bold\">1</span>  rack_0  server_1  <span style=\"color: #008080; text-decoration-color: #008080; font-weight: bold\">443.27</span>\n",
       "<span style=\"color: #008080; text-decoration-color: #008080; font-weight: bold\">2</span>  rack_0  server_2  <span style=\"color: #008080; text-decoration-color: #008080; font-weight: bold\">369.87</span>\n",
       "<span style=\"color: #008080; text-decoration-color: #008080; font-weight: bold\">3</span>  rack_1  server_3  <span style=\"color: #008080; text-decoration-color: #008080; font-weight: bold\">535.70</span>\n",
       "<span style=\"color: #008080; text-decoration-color: #008080; font-weight: bold\">4</span>  rack_1  server_4  <span style=\"color: #008080; text-decoration-color: #008080; font-weight: bold\">476.11</span>\n",
       "<span style=\"color: #008080; text-decoration-color: #008080; font-weight: bold\">5</span>  rack_1  server_5  <span style=\"color: #008080; text-decoration-color: #008080; font-weight: bold\">160.21</span>\n",
       "</pre>\n"
      ],
      "text/plain": [
       "     Rack    Server   value\n",
       "\u001b[1;36m0\u001b[0m  rack_0  server_0  \u001b[1;36m876.44\u001b[0m\n",
       "\u001b[1;36m1\u001b[0m  rack_0  server_1  \u001b[1;36m443.27\u001b[0m\n",
       "\u001b[1;36m2\u001b[0m  rack_0  server_2  \u001b[1;36m369.87\u001b[0m\n",
       "\u001b[1;36m3\u001b[0m  rack_1  server_3  \u001b[1;36m535.70\u001b[0m\n",
       "\u001b[1;36m4\u001b[0m  rack_1  server_4  \u001b[1;36m476.11\u001b[0m\n",
       "\u001b[1;36m5\u001b[0m  rack_1  server_5  \u001b[1;36m160.21\u001b[0m\n"
      ]
     },
     "metadata": {},
     "output_type": "display_data"
    }
   ],
   "source": [
    "print(\n",
    "context.tiro_table(\n",
    "    \"%%FlowRate\",\n",
    "    type=\"status\", \n",
    "    as_dataframe=True,\n",
    "    include_tags=[\"Rack\", \"Server\"],\n",
    "    value_only=True,\n",
    ")[\"FlowRate\"].value\n",
    ")"
   ]
  },
  {
   "cell_type": "code",
   "execution_count": null,
   "id": "fb5380ca-69b5-4e7b-a412-1f4beb873d2d",
   "metadata": {},
   "outputs": [],
   "source": []
  }
 ],
 "metadata": {
  "kernelspec": {
   "display_name": "Python 3 (ipykernel)",
   "language": "python",
   "name": "python3"
  },
  "language_info": {
   "codemirror_mode": {
    "name": "ipython",
    "version": 3
   },
   "file_extension": ".py",
   "mimetype": "text/x-python",
   "name": "python",
   "nbconvert_exporter": "python",
   "pygments_lexer": "ipython3",
   "version": "3.10.6"
  }
 },
 "nbformat": 4,
 "nbformat_minor": 5
}
