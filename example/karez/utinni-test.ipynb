{
 "cells": [
  {
   "cell_type": "code",
   "execution_count": 37,
   "id": "f58cd048-838f-4acb-b019-d945af7f1c42",
   "metadata": {},
   "outputs": [],
   "source": [
    "from pathlib import Path\n",
    "from datetime import timedelta\n",
    "from utinni import Context\n",
    "from tiro.core import Scenario\n",
    "from tiro.plugins.utinni import TiroTSPump\n",
    "import yaml\n",
    "\n",
    "from rich import print"
   ]
  },
  {
   "cell_type": "code",
   "execution_count": 2,
   "id": "9bd3449a-94e9-4ae7-a243-b9a74870dd9c",
   "metadata": {},
   "outputs": [],
   "source": [
    "scenario = Scenario.from_yaml(\n",
    "    Path(\"scenario/scenario.yaml\"),\n",
    "    Path(\"scenario/use-srv1.yaml\"),\n",
    "    Path(\"scenario/use-srv2.yaml\"),\n",
    ")\n",
    "pump = TiroTSPump(\n",
    "    scenario=scenario,\n",
    "    influxdb_url=\"http://localhost:8086\",\n",
    "    influxdb_token=\"tiro-token\",\n",
    "    influxdb_org=\"tiro\",\n",
    "    arangodb_db=\"tiro\",\n",
    "    arangodb_graph=\"scenario\",\n",
    "    arangodb_hosts=\"http://localhost:8529\",\n",
    "    arangodb_auth=dict(password=\"tiro-password\"),\n",
    ").bind(influxdb_bucket=\"tiro\", influxdb_measurement=\"tiro_telemetry\")"
   ]
  },
  {
   "cell_type": "code",
   "execution_count": 3,
   "id": "9a477533-924a-445a-821f-75041a203d09",
   "metadata": {},
   "outputs": [
    {
     "data": {
      "text/plain": [
       "<utinni.context.Context at 0x12f86d330>"
      ]
     },
     "execution_count": 3,
     "metadata": {},
     "output_type": "execute_result"
    }
   ],
   "source": [
    "context = Context()\n",
    "context.add_pump(\"tiro\", pump)"
   ]
  },
  {
   "cell_type": "code",
   "execution_count": 4,
   "id": "76e8573c-699e-4dfe-9fd5-4beaaf28f890",
   "metadata": {},
   "outputs": [
    {
     "data": {
      "text/plain": [
       "<utinni.context.Context at 0x12f86d330>"
      ]
     },
     "execution_count": 4,
     "metadata": {},
     "output_type": "execute_result"
    }
   ],
   "source": [
    "context.bind(start=-timedelta(hours=1), step=timedelta(minutes=30))"
   ]
  },
  {
   "cell_type": "code",
   "execution_count": 14,
   "id": "dbb82bdd-beba-4a0b-bb7d-a71563cd0bff",
   "metadata": {},
   "outputs": [
    {
     "data": {
      "text/html": [
       "<pre style=\"white-space:pre;overflow-x:auto;line-height:normal;font-family:Menlo,'DejaVu Sans Mono',consolas,'Courier New',monospace\">                            rack_0   rack_1\n",
       "<span style=\"color: #008080; text-decoration-color: #008080; font-weight: bold\">2022</span>-<span style=\"color: #008080; text-decoration-color: #008080; font-weight: bold\">09</span>-<span style=\"color: #008080; text-decoration-color: #008080; font-weight: bold\">28</span> <span style=\"color: #00ff00; text-decoration-color: #00ff00; font-weight: bold\">12:30:00</span>+<span style=\"color: #00ff00; text-decoration-color: #00ff00; font-weight: bold\">08:00</span>     <span style=\"color: #008080; text-decoration-color: #008080; font-weight: bold\">0.00</span>     <span style=\"color: #008080; text-decoration-color: #008080; font-weight: bold\">0.00</span>\n",
       "<span style=\"color: #008080; text-decoration-color: #008080; font-weight: bold\">2022</span>-<span style=\"color: #008080; text-decoration-color: #008080; font-weight: bold\">09</span>-<span style=\"color: #008080; text-decoration-color: #008080; font-weight: bold\">28</span> <span style=\"color: #00ff00; text-decoration-color: #00ff00; font-weight: bold\">13:00:00</span>+<span style=\"color: #00ff00; text-decoration-color: #00ff00; font-weight: bold\">08:00</span>  <span style=\"color: #008080; text-decoration-color: #008080; font-weight: bold\">2150.16</span>  <span style=\"color: #008080; text-decoration-color: #008080; font-weight: bold\">2649.47</span>\n",
       "<span style=\"color: #008080; text-decoration-color: #008080; font-weight: bold\">2022</span>-<span style=\"color: #008080; text-decoration-color: #008080; font-weight: bold\">09</span>-<span style=\"color: #008080; text-decoration-color: #008080; font-weight: bold\">28</span> <span style=\"color: #00ff00; text-decoration-color: #00ff00; font-weight: bold\">13:30:00</span>+<span style=\"color: #00ff00; text-decoration-color: #00ff00; font-weight: bold\">08:00</span>  <span style=\"color: #008080; text-decoration-color: #008080; font-weight: bold\">1922.42</span>  <span style=\"color: #008080; text-decoration-color: #008080; font-weight: bold\">1848.53</span>\n",
       "</pre>\n"
      ],
      "text/plain": [
       "                            rack_0   rack_1\n",
       "\u001b[1;36m2022\u001b[0m-\u001b[1;36m09\u001b[0m-\u001b[1;36m28\u001b[0m \u001b[1;92m12:30:00\u001b[0m+\u001b[1;92m08:00\u001b[0m     \u001b[1;36m0.00\u001b[0m     \u001b[1;36m0.00\u001b[0m\n",
       "\u001b[1;36m2022\u001b[0m-\u001b[1;36m09\u001b[0m-\u001b[1;36m28\u001b[0m \u001b[1;92m13:00:00\u001b[0m+\u001b[1;92m08:00\u001b[0m  \u001b[1;36m2150.16\u001b[0m  \u001b[1;36m2649.47\u001b[0m\n",
       "\u001b[1;36m2022\u001b[0m-\u001b[1;36m09\u001b[0m-\u001b[1;36m28\u001b[0m \u001b[1;92m13:30:00\u001b[0m+\u001b[1;92m08:00\u001b[0m  \u001b[1;36m1922.42\u001b[0m  \u001b[1;36m1848.53\u001b[0m\n"
      ]
     },
     "metadata": {},
     "output_type": "display_data"
    }
   ],
   "source": [
    "print(\n",
    "    context.tiro_table(\n",
    "        \"%%Rack%%FlowRate\", \n",
    "        type=\"historian\",\n",
    "        column=\"Rack\",\n",
    "        asset_agg_fn=\"sum\",\n",
    "    )[\"FlowRate\"].value\n",
    ")"
   ]
  },
  {
   "cell_type": "code",
   "execution_count": 27,
   "id": "e690caf0-a369-4631-aff8-cae22981633b",
   "metadata": {},
   "outputs": [
    {
     "data": {
      "text/html": [
       "<pre style=\"white-space:pre;overflow-x:auto;line-height:normal;font-family:Menlo,'DejaVu Sans Mono',consolas,'Courier New',monospace\"><span style=\"font-weight: bold\">{</span>\n",
       "    <span style=\"color: #008000; text-decoration-color: #008000\">'DataHall'</span>: <span style=\"font-weight: bold\">{</span>\n",
       "        <span style=\"color: #008000; text-decoration-color: #008000\">'data_hall_0'</span>: <span style=\"font-weight: bold\">{</span>\n",
       "            <span style=\"color: #008000; text-decoration-color: #008000\">'CRAC'</span>: <span style=\"font-weight: bold\">{</span><span style=\"color: #008000; text-decoration-color: #008000\">'crac_0'</span>: <span style=\"font-weight: bold\">{</span><span style=\"color: #008000; text-decoration-color: #008000\">'Telemetry'</span>: <span style=\"font-weight: bold\">{</span><span style=\"color: #008000; text-decoration-color: #008000\">'ActivePower'</span>: <span style=\"color: #008080; text-decoration-color: #008080; font-weight: bold\">469.97</span><span style=\"font-weight: bold\">}}}</span>,\n",
       "            <span style=\"color: #008000; text-decoration-color: #008000\">'Rack'</span>: <span style=\"font-weight: bold\">{</span>\n",
       "                <span style=\"color: #008000; text-decoration-color: #008000\">'rack_0'</span>: <span style=\"font-weight: bold\">{</span><span style=\"color: #008000; text-decoration-color: #008000\">'Telemetry'</span>: <span style=\"font-weight: bold\">{</span><span style=\"color: #008000; text-decoration-color: #008000\">'ActivePower'</span>: <span style=\"color: #008080; text-decoration-color: #008080; font-weight: bold\">926.17</span><span style=\"font-weight: bold\">}}</span>,\n",
       "                <span style=\"color: #008000; text-decoration-color: #008000\">'rack_1'</span>: <span style=\"font-weight: bold\">{</span><span style=\"color: #008000; text-decoration-color: #008000\">'Telemetry'</span>: <span style=\"font-weight: bold\">{</span><span style=\"color: #008000; text-decoration-color: #008000\">'ActivePower'</span>: <span style=\"color: #008080; text-decoration-color: #008080; font-weight: bold\">924.3</span><span style=\"font-weight: bold\">}}</span>\n",
       "            <span style=\"font-weight: bold\">}</span>\n",
       "        <span style=\"font-weight: bold\">}</span>\n",
       "    <span style=\"font-weight: bold\">}</span>\n",
       "<span style=\"font-weight: bold\">}</span>\n",
       "</pre>\n"
      ],
      "text/plain": [
       "\u001b[1m{\u001b[0m\n",
       "    \u001b[32m'DataHall'\u001b[0m: \u001b[1m{\u001b[0m\n",
       "        \u001b[32m'data_hall_0'\u001b[0m: \u001b[1m{\u001b[0m\n",
       "            \u001b[32m'CRAC'\u001b[0m: \u001b[1m{\u001b[0m\u001b[32m'crac_0'\u001b[0m: \u001b[1m{\u001b[0m\u001b[32m'Telemetry'\u001b[0m: \u001b[1m{\u001b[0m\u001b[32m'ActivePower'\u001b[0m: \u001b[1;36m469.97\u001b[0m\u001b[1m}\u001b[0m\u001b[1m}\u001b[0m\u001b[1m}\u001b[0m,\n",
       "            \u001b[32m'Rack'\u001b[0m: \u001b[1m{\u001b[0m\n",
       "                \u001b[32m'rack_0'\u001b[0m: \u001b[1m{\u001b[0m\u001b[32m'Telemetry'\u001b[0m: \u001b[1m{\u001b[0m\u001b[32m'ActivePower'\u001b[0m: \u001b[1;36m926.17\u001b[0m\u001b[1m}\u001b[0m\u001b[1m}\u001b[0m,\n",
       "                \u001b[32m'rack_1'\u001b[0m: \u001b[1m{\u001b[0m\u001b[32m'Telemetry'\u001b[0m: \u001b[1m{\u001b[0m\u001b[32m'ActivePower'\u001b[0m: \u001b[1;36m924.3\u001b[0m\u001b[1m}\u001b[0m\u001b[1m}\u001b[0m\n",
       "            \u001b[1m}\u001b[0m\n",
       "        \u001b[1m}\u001b[0m\n",
       "    \u001b[1m}\u001b[0m\n",
       "\u001b[1m}\u001b[0m\n"
      ]
     },
     "metadata": {},
     "output_type": "display_data"
    }
   ],
   "source": [
    "print(\n",
    "context.tiro_table(\n",
    "    \"%%ActivePower\",\n",
    "    type=\"status\",\n",
    "    as_dataframe=False,\n",
    "    value_only=True,\n",
    ").value\n",
    ")"
   ]
  },
  {
   "cell_type": "code",
   "execution_count": 35,
   "id": "fb930b38-20cd-4af9-bf6f-e32b7f06b22b",
   "metadata": {},
   "outputs": [
    {
     "data": {
      "text/html": [
       "<pre style=\"white-space:pre;overflow-x:auto;line-height:normal;font-family:Menlo,'DejaVu Sans Mono',consolas,'Courier New',monospace\">     Rack    Server   value\n",
       "<span style=\"color: #008080; text-decoration-color: #008080; font-weight: bold\">0</span>  rack_0  server_0  <span style=\"color: #008080; text-decoration-color: #008080; font-weight: bold\">527.90</span>\n",
       "<span style=\"color: #008080; text-decoration-color: #008080; font-weight: bold\">1</span>  rack_0  server_1  <span style=\"color: #008080; text-decoration-color: #008080; font-weight: bold\">597.79</span>\n",
       "<span style=\"color: #008080; text-decoration-color: #008080; font-weight: bold\">2</span>  rack_0  server_2  <span style=\"color: #008080; text-decoration-color: #008080; font-weight: bold\">587.88</span>\n",
       "<span style=\"color: #008080; text-decoration-color: #008080; font-weight: bold\">3</span>  rack_0  server_3  <span style=\"color: #008080; text-decoration-color: #008080; font-weight: bold\">863.72</span>\n",
       "<span style=\"color: #008080; text-decoration-color: #008080; font-weight: bold\">4</span>  rack_1  server_3  <span style=\"color: #008080; text-decoration-color: #008080; font-weight: bold\">863.72</span>\n",
       "<span style=\"color: #008080; text-decoration-color: #008080; font-weight: bold\">5</span>  rack_1  server_4  <span style=\"color: #008080; text-decoration-color: #008080; font-weight: bold\">590.90</span>\n",
       "<span style=\"color: #008080; text-decoration-color: #008080; font-weight: bold\">6</span>  rack_1  server_5  <span style=\"color: #008080; text-decoration-color: #008080; font-weight: bold\">865.13</span>\n",
       "<span style=\"color: #008080; text-decoration-color: #008080; font-weight: bold\">7</span>  rack_1  server_6  <span style=\"color: #008080; text-decoration-color: #008080; font-weight: bold\">357.40</span>\n",
       "<span style=\"color: #008080; text-decoration-color: #008080; font-weight: bold\">8</span>  rack_1  server_7  <span style=\"color: #008080; text-decoration-color: #008080; font-weight: bold\">125.10</span>\n",
       "</pre>\n"
      ],
      "text/plain": [
       "     Rack    Server   value\n",
       "\u001b[1;36m0\u001b[0m  rack_0  server_0  \u001b[1;36m527.90\u001b[0m\n",
       "\u001b[1;36m1\u001b[0m  rack_0  server_1  \u001b[1;36m597.79\u001b[0m\n",
       "\u001b[1;36m2\u001b[0m  rack_0  server_2  \u001b[1;36m587.88\u001b[0m\n",
       "\u001b[1;36m3\u001b[0m  rack_0  server_3  \u001b[1;36m863.72\u001b[0m\n",
       "\u001b[1;36m4\u001b[0m  rack_1  server_3  \u001b[1;36m863.72\u001b[0m\n",
       "\u001b[1;36m5\u001b[0m  rack_1  server_4  \u001b[1;36m590.90\u001b[0m\n",
       "\u001b[1;36m6\u001b[0m  rack_1  server_5  \u001b[1;36m865.13\u001b[0m\n",
       "\u001b[1;36m7\u001b[0m  rack_1  server_6  \u001b[1;36m357.40\u001b[0m\n",
       "\u001b[1;36m8\u001b[0m  rack_1  server_7  \u001b[1;36m125.10\u001b[0m\n"
      ]
     },
     "metadata": {},
     "output_type": "display_data"
    }
   ],
   "source": [
    "print(\n",
    "context.tiro_table(\n",
    "    \"%%FlowRate\",\n",
    "    type=\"status\",\n",
    "    as_dataframe=True,\n",
    "    include_tags=[\"Rack\", \"Server\"],\n",
    "    value_only=True\n",
    ")[\"FlowRate\"].value\n",
    ")"
   ]
  },
  {
   "cell_type": "code",
   "execution_count": 9,
   "id": "a45ec484-24c9-41dc-9fe3-e6f596ddf24a",
   "metadata": {},
   "outputs": [
    {
     "data": {
      "text/html": [
       "<div>\n",
       "<style scoped>\n",
       "    .dataframe tbody tr th:only-of-type {\n",
       "        vertical-align: middle;\n",
       "    }\n",
       "\n",
       "    .dataframe tbody tr th {\n",
       "        vertical-align: top;\n",
       "    }\n",
       "\n",
       "    .dataframe thead th {\n",
       "        text-align: right;\n",
       "    }\n",
       "</style>\n",
       "<table border=\"1\" class=\"dataframe\">\n",
       "  <thead>\n",
       "    <tr style=\"text-align: right;\">\n",
       "      <th></th>\n",
       "      <th>path</th>\n",
       "      <th>DataHall</th>\n",
       "      <th>CRAC</th>\n",
       "      <th>type</th>\n",
       "      <th>value</th>\n",
       "      <th>Rack</th>\n",
       "      <th>Server</th>\n",
       "    </tr>\n",
       "    <tr>\n",
       "      <th>asset_path</th>\n",
       "      <th></th>\n",
       "      <th></th>\n",
       "      <th></th>\n",
       "      <th></th>\n",
       "      <th></th>\n",
       "      <th></th>\n",
       "      <th></th>\n",
       "    </tr>\n",
       "  </thead>\n",
       "  <tbody>\n",
       "    <tr>\n",
       "      <th>DataHall.data_hall_0.CRAC.crac_0</th>\n",
       "      <td>DataHall.CRAC.ActivePower</td>\n",
       "      <td>data_hall_0</td>\n",
       "      <td>crac_0</td>\n",
       "      <td>Telemetry</td>\n",
       "      <td>729.86</td>\n",
       "      <td>NaN</td>\n",
       "      <td>NaN</td>\n",
       "    </tr>\n",
       "    <tr>\n",
       "      <th>DataHall.data_hall_0.Rack.rack_0</th>\n",
       "      <td>DataHall.Rack.ActivePower</td>\n",
       "      <td>data_hall_0</td>\n",
       "      <td>NaN</td>\n",
       "      <td>Telemetry</td>\n",
       "      <td>576.61</td>\n",
       "      <td>rack_0</td>\n",
       "      <td>NaN</td>\n",
       "    </tr>\n",
       "    <tr>\n",
       "      <th>DataHall.data_hall_0.Rack.rack_1</th>\n",
       "      <td>DataHall.Rack.ActivePower</td>\n",
       "      <td>data_hall_0</td>\n",
       "      <td>NaN</td>\n",
       "      <td>Telemetry</td>\n",
       "      <td>808.42</td>\n",
       "      <td>rack_1</td>\n",
       "      <td>NaN</td>\n",
       "    </tr>\n",
       "  </tbody>\n",
       "</table>\n",
       "</div>"
      ],
      "text/plain": [
       "                                                       path     DataHall  \\\n",
       "asset_path                                                                 \n",
       "DataHall.data_hall_0.CRAC.crac_0  DataHall.CRAC.ActivePower  data_hall_0   \n",
       "DataHall.data_hall_0.Rack.rack_0  DataHall.Rack.ActivePower  data_hall_0   \n",
       "DataHall.data_hall_0.Rack.rack_1  DataHall.Rack.ActivePower  data_hall_0   \n",
       "\n",
       "                                    CRAC       type   value    Rack Server  \n",
       "asset_path                                                                  \n",
       "DataHall.data_hall_0.CRAC.crac_0  crac_0  Telemetry  729.86     NaN    NaN  \n",
       "DataHall.data_hall_0.Rack.rack_0     NaN  Telemetry  576.61  rack_0    NaN  \n",
       "DataHall.data_hall_0.Rack.rack_1     NaN  Telemetry  808.42  rack_1    NaN  "
      ]
     },
     "execution_count": 9,
     "metadata": {},
     "output_type": "execute_result"
    }
   ],
   "source": [
    "s1 = t1[\"ActivePower\"].value\n",
    "s1"
   ]
  },
  {
   "cell_type": "code",
   "execution_count": 54,
   "id": "14d4bf67-2b35-4e89-9fca-f6513d7f98de",
   "metadata": {},
   "outputs": [],
   "source": [
    "query=\"\"\"\n",
    "DataHall:\n",
    "  Rack:\n",
    "    $name_match: _1\n",
    "    Server:\n",
    "      FlowRate:\n",
    "        $lt: 400\n",
    "  CRAC:\n",
    "    ActivePower:\n",
    "    _ReturnTemperature:\n",
    "      $lt: 15\n",
    "      $gt: 25\n",
    "\"\"\"\n",
    "query_dict = yaml.safe_load(query)"
   ]
  },
  {
   "cell_type": "code",
   "execution_count": 55,
   "id": "121651d4-0b8b-4e90-8c6a-dba910495794",
   "metadata": {},
   "outputs": [
    {
     "data": {
      "text/html": [
       "<pre style=\"white-space:pre;overflow-x:auto;line-height:normal;font-family:Menlo,'DejaVu Sans Mono',consolas,'Courier New',monospace\"><span style=\"font-weight: bold\">{</span>\n",
       "    <span style=\"color: #008000; text-decoration-color: #008000\">'DataHall'</span>: <span style=\"font-weight: bold\">{</span>\n",
       "        <span style=\"color: #008000; text-decoration-color: #008000\">'data_hall_0'</span>: <span style=\"font-weight: bold\">{</span>\n",
       "            <span style=\"color: #008000; text-decoration-color: #008000\">'Rack'</span>: <span style=\"font-weight: bold\">{</span>\n",
       "                <span style=\"color: #008000; text-decoration-color: #008000\">'rack_1'</span>: <span style=\"font-weight: bold\">{</span>\n",
       "                    <span style=\"color: #008000; text-decoration-color: #008000\">'Server'</span>: <span style=\"font-weight: bold\">{</span>\n",
       "                        <span style=\"color: #008000; text-decoration-color: #008000\">'server_4'</span>: <span style=\"font-weight: bold\">{</span><span style=\"color: #008000; text-decoration-color: #008000\">'Telemetry'</span>: <span style=\"font-weight: bold\">{</span><span style=\"color: #008000; text-decoration-color: #008000\">'FlowRate'</span>: <span style=\"color: #008080; text-decoration-color: #008080; font-weight: bold\">463.1</span><span style=\"font-weight: bold\">}}</span>,\n",
       "                        <span style=\"color: #008000; text-decoration-color: #008000\">'server_5'</span>: <span style=\"font-weight: bold\">{</span><span style=\"color: #008000; text-decoration-color: #008000\">'Telemetry'</span>: <span style=\"font-weight: bold\">{</span><span style=\"color: #008000; text-decoration-color: #008000\">'FlowRate'</span>: <span style=\"color: #008080; text-decoration-color: #008080; font-weight: bold\">530.32</span><span style=\"font-weight: bold\">}}</span>,\n",
       "                        <span style=\"color: #008000; text-decoration-color: #008000\">'server_6'</span>: <span style=\"font-weight: bold\">{</span><span style=\"color: #008000; text-decoration-color: #008000\">'Telemetry'</span>: <span style=\"font-weight: bold\">{</span><span style=\"color: #008000; text-decoration-color: #008000\">'FlowRate'</span>: <span style=\"color: #008080; text-decoration-color: #008080; font-weight: bold\">686.7</span><span style=\"font-weight: bold\">}}</span>,\n",
       "                        <span style=\"color: #008000; text-decoration-color: #008000\">'server_7'</span>: <span style=\"font-weight: bold\">{</span><span style=\"color: #008000; text-decoration-color: #008000\">'Telemetry'</span>: <span style=\"font-weight: bold\">{</span><span style=\"color: #008000; text-decoration-color: #008000\">'FlowRate'</span>: <span style=\"color: #008080; text-decoration-color: #008080; font-weight: bold\">451.27</span><span style=\"font-weight: bold\">}}</span>\n",
       "                    <span style=\"font-weight: bold\">}</span>\n",
       "                <span style=\"font-weight: bold\">}</span>\n",
       "            <span style=\"font-weight: bold\">}</span>\n",
       "        <span style=\"font-weight: bold\">}</span>\n",
       "    <span style=\"font-weight: bold\">}</span>\n",
       "<span style=\"font-weight: bold\">}</span>\n",
       "</pre>\n"
      ],
      "text/plain": [
       "\u001b[1m{\u001b[0m\n",
       "    \u001b[32m'DataHall'\u001b[0m: \u001b[1m{\u001b[0m\n",
       "        \u001b[32m'data_hall_0'\u001b[0m: \u001b[1m{\u001b[0m\n",
       "            \u001b[32m'Rack'\u001b[0m: \u001b[1m{\u001b[0m\n",
       "                \u001b[32m'rack_1'\u001b[0m: \u001b[1m{\u001b[0m\n",
       "                    \u001b[32m'Server'\u001b[0m: \u001b[1m{\u001b[0m\n",
       "                        \u001b[32m'server_4'\u001b[0m: \u001b[1m{\u001b[0m\u001b[32m'Telemetry'\u001b[0m: \u001b[1m{\u001b[0m\u001b[32m'FlowRate'\u001b[0m: \u001b[1;36m463.1\u001b[0m\u001b[1m}\u001b[0m\u001b[1m}\u001b[0m,\n",
       "                        \u001b[32m'server_5'\u001b[0m: \u001b[1m{\u001b[0m\u001b[32m'Telemetry'\u001b[0m: \u001b[1m{\u001b[0m\u001b[32m'FlowRate'\u001b[0m: \u001b[1;36m530.32\u001b[0m\u001b[1m}\u001b[0m\u001b[1m}\u001b[0m,\n",
       "                        \u001b[32m'server_6'\u001b[0m: \u001b[1m{\u001b[0m\u001b[32m'Telemetry'\u001b[0m: \u001b[1m{\u001b[0m\u001b[32m'FlowRate'\u001b[0m: \u001b[1;36m686.7\u001b[0m\u001b[1m}\u001b[0m\u001b[1m}\u001b[0m,\n",
       "                        \u001b[32m'server_7'\u001b[0m: \u001b[1m{\u001b[0m\u001b[32m'Telemetry'\u001b[0m: \u001b[1m{\u001b[0m\u001b[32m'FlowRate'\u001b[0m: \u001b[1;36m451.27\u001b[0m\u001b[1m}\u001b[0m\u001b[1m}\u001b[0m\n",
       "                    \u001b[1m}\u001b[0m\n",
       "                \u001b[1m}\u001b[0m\n",
       "            \u001b[1m}\u001b[0m\n",
       "        \u001b[1m}\u001b[0m\n",
       "    \u001b[1m}\u001b[0m\n",
       "\u001b[1m}\u001b[0m\n"
      ]
     },
     "metadata": {},
     "output_type": "display_data"
    }
   ],
   "source": [
    "print(\n",
    "context.tiro_table(\n",
    "    yaml.safe_load(query),\n",
    "    type=\"status\",\n",
    "    as_dataframe=False,\n",
    "    value_only=True\n",
    ").value\n",
    ")"
   ]
  },
  {
   "cell_type": "code",
   "execution_count": null,
   "id": "c1cace2d-62f2-4235-8df0-1132f5177170",
   "metadata": {},
   "outputs": [],
   "source": []
  }
 ],
 "metadata": {
  "kernelspec": {
   "display_name": "Python 3 (ipykernel)",
   "language": "python",
   "name": "python3"
  },
  "language_info": {
   "codemirror_mode": {
    "name": "ipython",
    "version": 3
   },
   "file_extension": ".py",
   "mimetype": "text/x-python",
   "name": "python",
   "nbconvert_exporter": "python",
   "pygments_lexer": "ipython3",
   "version": "3.10.6"
  }
 },
 "nbformat": 4,
 "nbformat_minor": 5
}
